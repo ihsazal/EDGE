{
 "cells": [
  {
   "cell_type": "code",
   "execution_count": 3,
   "id": "51c8c565-f803-4c1d-92cd-df915078e3b8",
   "metadata": {},
   "outputs": [],
   "source": [
    "#importing the require function\n",
    "import numpy as np\n",
    "import pandas as pd\n",
    "import matplotlib\n",
    "import matplotlib.pyplot as plt\n",
    "# Load the dataset\n",
    "file_path = r\"https://raw.githubusercontent.com/ihsazal/EDGE/refs/heads/main/matches.csv"\n",
    "df = pd.read_csv(file_path)\n",
    "\n",
    "\n"
   ]
  },
  {
   "cell_type": "code",
   "execution_count": 5,
   "id": "7b6e288d-8dba-453a-95ce-95af1c5109be",
   "metadata": {},
   "outputs": [
    {
     "name": "stdout",
     "output_type": "stream",
     "text": [
      "   id  season       city        date                        team1  \\\n",
      "0   1    2017  Hyderabad  2017-04-05          Sunrisers Hyderabad   \n",
      "1   2    2017       Pune  2017-04-06               Mumbai Indians   \n",
      "2   3    2017     Rajkot  2017-04-07                Gujarat Lions   \n",
      "3   4    2017     Indore  2017-04-08       Rising Pune Supergiant   \n",
      "4   5    2017  Bangalore  2017-04-08  Royal Challengers Bangalore   \n",
      "\n",
      "                         team2                  toss_winner toss_decision  \\\n",
      "0  Royal Challengers Bangalore  Royal Challengers Bangalore         field   \n",
      "1       Rising Pune Supergiant       Rising Pune Supergiant         field   \n",
      "2        Kolkata Knight Riders        Kolkata Knight Riders         field   \n",
      "3              Kings XI Punjab              Kings XI Punjab         field   \n",
      "4             Delhi Daredevils  Royal Challengers Bangalore           bat   \n",
      "\n",
      "   result  dl_applied                       winner  win_by_runs  \\\n",
      "0  normal           0          Sunrisers Hyderabad           35   \n",
      "1  normal           0       Rising Pune Supergiant            0   \n",
      "2  normal           0        Kolkata Knight Riders            0   \n",
      "3  normal           0              Kings XI Punjab            0   \n",
      "4  normal           0  Royal Challengers Bangalore           15   \n",
      "\n",
      "   win_by_wickets player_of_match                                      venue  \\\n",
      "0               0    Yuvraj Singh  Rajiv Gandhi International Stadium, Uppal   \n",
      "1               7       SPD Smith    Maharashtra Cricket Association Stadium   \n",
      "2              10         CA Lynn     Saurashtra Cricket Association Stadium   \n",
      "3               6      GJ Maxwell                     Holkar Cricket Stadium   \n",
      "4               0       KM Jadhav                      M Chinnaswamy Stadium   \n",
      "\n",
      "          umpire1        umpire2 umpire3  \n",
      "0     AY Dandekar       NJ Llong     NaN  \n",
      "1  A Nand Kishore         S Ravi     NaN  \n",
      "2     Nitin Menon      CK Nandan     NaN  \n",
      "3    AK Chaudhary  C Shamshuddin     NaN  \n",
      "4             NaN            NaN     NaN  \n",
      "        id  season           city      date                  team1  \\\n",
      "751  11347    2019         Mumbai  05/05/19  Kolkata Knight Riders   \n",
      "752  11412    2019        Chennai  07/05/19    Chennai Super Kings   \n",
      "753  11413    2019  Visakhapatnam  08/05/19    Sunrisers Hyderabad   \n",
      "754  11414    2019  Visakhapatnam  10/05/19         Delhi Capitals   \n",
      "755  11415    2019      Hyderabad  12/05/19         Mumbai Indians   \n",
      "\n",
      "                   team2          toss_winner toss_decision  result  \\\n",
      "751       Mumbai Indians       Mumbai Indians         field  normal   \n",
      "752       Mumbai Indians  Chennai Super Kings           bat  normal   \n",
      "753       Delhi Capitals       Delhi Capitals         field  normal   \n",
      "754  Chennai Super Kings  Chennai Super Kings         field  normal   \n",
      "755  Chennai Super Kings       Mumbai Indians           bat  normal   \n",
      "\n",
      "     dl_applied               winner  win_by_runs  win_by_wickets  \\\n",
      "751           0       Mumbai Indians            0               9   \n",
      "752           0       Mumbai Indians            0               6   \n",
      "753           0       Delhi Capitals            0               2   \n",
      "754           0  Chennai Super Kings            0               6   \n",
      "755           0       Mumbai Indians            1               0   \n",
      "\n",
      "    player_of_match                               venue        umpire1  \\\n",
      "751       HH Pandya                    Wankhede Stadium  Nanda Kishore   \n",
      "752        AS Yadav           M. A. Chidambaram Stadium    Nigel Llong   \n",
      "753         RR Pant                    ACA-VDCA Stadium            NaN   \n",
      "754    F du Plessis                    ACA-VDCA Stadium  Sundaram Ravi   \n",
      "755       JJ Bumrah  Rajiv Gandhi Intl. Cricket Stadium    Nitin Menon   \n",
      "\n",
      "            umpire2                  umpire3  \n",
      "751        O Nandan                   S Ravi  \n",
      "752     Nitin Menon                Ian Gould  \n",
      "753             NaN                      NaN  \n",
      "754  Bruce Oxenford  Chettithody Shamshuddin  \n",
      "755       Ian Gould              Nigel Llong  \n"
     ]
    }
   ],
   "source": [
    "#Checking Dataset head and tail info\n",
    "print(df.head())\n",
    "print(df.tail())"
   ]
  },
  {
   "cell_type": "code",
   "execution_count": 100,
   "id": "10809811-7f80-482b-ba4a-299d6b14e5f0",
   "metadata": {},
   "outputs": [
    {
     "name": "stdout",
     "output_type": "stream",
     "text": [
      "<class 'pandas.core.frame.DataFrame'>\n",
      "RangeIndex: 756 entries, 0 to 755\n",
      "Data columns (total 18 columns):\n",
      " #   Column           Non-Null Count  Dtype \n",
      "---  ------           --------------  ----- \n",
      " 0   id               756 non-null    int64 \n",
      " 1   season           756 non-null    int64 \n",
      " 2   city             749 non-null    object\n",
      " 3   date             756 non-null    object\n",
      " 4   team1            756 non-null    object\n",
      " 5   team2            756 non-null    object\n",
      " 6   toss_winner      756 non-null    object\n",
      " 7   toss_decision    756 non-null    object\n",
      " 8   result           756 non-null    object\n",
      " 9   dl_applied       756 non-null    int64 \n",
      " 10  winner           752 non-null    object\n",
      " 11  win_by_runs      756 non-null    int64 \n",
      " 12  win_by_wickets   756 non-null    int64 \n",
      " 13  player_of_match  752 non-null    object\n",
      " 14  venue            756 non-null    object\n",
      " 15  umpire1          754 non-null    object\n",
      " 16  umpire2          754 non-null    object\n",
      " 17  umpire3          119 non-null    object\n",
      "dtypes: int64(5), object(13)\n",
      "memory usage: 106.4+ KB\n",
      "None\n",
      "\n",
      "Shape of Dataset: (756, 18)\n"
     ]
    }
   ],
   "source": [
    "#Checking Dataset Details\n",
    "print(df.info())\n",
    "print(\"\\nShape of Dataset:\", df.shape)"
   ]
  },
  {
   "cell_type": "code",
   "execution_count": 7,
   "id": "1b35e848-2a66-4615-aca3-5f30d66d44b5",
   "metadata": {},
   "outputs": [
    {
     "name": "stdout",
     "output_type": "stream",
     "text": [
      "Number of duplicate rows: 0\n"
     ]
    }
   ],
   "source": [
    "#Check for duplicates\n",
    "duplicates = df.duplicated().sum()\n",
    "print(f\"Number of duplicate rows: {duplicates}\")"
   ]
  },
  {
   "cell_type": "code",
   "execution_count": 5,
   "id": "64acd3b4-4d09-495a-b36a-8f00a3111dd8",
   "metadata": {},
   "outputs": [
    {
     "name": "stdout",
     "output_type": "stream",
     "text": [
      "Missing Values: \n",
      " id                   0\n",
      "season               0\n",
      "city                 7\n",
      "date                 0\n",
      "team1                0\n",
      "team2                0\n",
      "toss_winner          0\n",
      "toss_decision        0\n",
      "result               0\n",
      "dl_applied           0\n",
      "winner               4\n",
      "win_by_runs          0\n",
      "win_by_wickets       0\n",
      "player_of_match      4\n",
      "venue                0\n",
      "umpire1              2\n",
      "umpire2              2\n",
      "umpire3            637\n",
      "dtype: int64\n",
      "Total Missing Values:  656\n"
     ]
    }
   ],
   "source": [
    "# Check for missing values before cleaning\n",
    "missing_values=df.isnull().sum()\n",
    "print(f'Missing Values: \\n',missing_values)\n",
    "Total_missing_values=df.isnull().sum().sum()\n",
    "print(f'Total Missing Values: ',Total_missing_values)"
   ]
  },
  {
   "cell_type": "code",
   "execution_count": 9,
   "id": "25649246-9440-4cf7-9a44-e5b2f0590ebf",
   "metadata": {},
   "outputs": [
    {
     "data": {
      "text/html": [
       "<div>\n",
       "<style scoped>\n",
       "    .dataframe tbody tr th:only-of-type {\n",
       "        vertical-align: middle;\n",
       "    }\n",
       "\n",
       "    .dataframe tbody tr th {\n",
       "        vertical-align: top;\n",
       "    }\n",
       "\n",
       "    .dataframe thead th {\n",
       "        text-align: right;\n",
       "    }\n",
       "</style>\n",
       "<table border=\"1\" class=\"dataframe\">\n",
       "  <thead>\n",
       "    <tr style=\"text-align: right;\">\n",
       "      <th></th>\n",
       "      <th>id</th>\n",
       "      <th>season</th>\n",
       "      <th>city</th>\n",
       "      <th>date</th>\n",
       "      <th>team1</th>\n",
       "      <th>team2</th>\n",
       "      <th>toss_winner</th>\n",
       "      <th>toss_decision</th>\n",
       "      <th>result</th>\n",
       "      <th>dl_applied</th>\n",
       "      <th>winner</th>\n",
       "      <th>win_by_runs</th>\n",
       "      <th>win_by_wickets</th>\n",
       "      <th>player_of_match</th>\n",
       "      <th>venue</th>\n",
       "      <th>umpire1</th>\n",
       "      <th>umpire2</th>\n",
       "      <th>umpire3</th>\n",
       "    </tr>\n",
       "  </thead>\n",
       "  <tbody>\n",
       "    <tr>\n",
       "      <th>461</th>\n",
       "      <td>462</td>\n",
       "      <td>2014</td>\n",
       "      <td>NaN</td>\n",
       "      <td>2014-04-19</td>\n",
       "      <td>Mumbai Indians</td>\n",
       "      <td>Royal Challengers Bangalore</td>\n",
       "      <td>Royal Challengers Bangalore</td>\n",
       "      <td>field</td>\n",
       "      <td>normal</td>\n",
       "      <td>0</td>\n",
       "      <td>Royal Challengers Bangalore</td>\n",
       "      <td>0</td>\n",
       "      <td>7</td>\n",
       "      <td>PA Patel</td>\n",
       "      <td>Dubai International Cricket Stadium</td>\n",
       "      <td>Aleem Dar</td>\n",
       "      <td>AK Chaudhary</td>\n",
       "      <td>NaN</td>\n",
       "    </tr>\n",
       "    <tr>\n",
       "      <th>462</th>\n",
       "      <td>463</td>\n",
       "      <td>2014</td>\n",
       "      <td>NaN</td>\n",
       "      <td>2014-04-19</td>\n",
       "      <td>Kolkata Knight Riders</td>\n",
       "      <td>Delhi Daredevils</td>\n",
       "      <td>Kolkata Knight Riders</td>\n",
       "      <td>bat</td>\n",
       "      <td>normal</td>\n",
       "      <td>0</td>\n",
       "      <td>Delhi Daredevils</td>\n",
       "      <td>0</td>\n",
       "      <td>4</td>\n",
       "      <td>JP Duminy</td>\n",
       "      <td>Dubai International Cricket Stadium</td>\n",
       "      <td>Aleem Dar</td>\n",
       "      <td>VA Kulkarni</td>\n",
       "      <td>NaN</td>\n",
       "    </tr>\n",
       "    <tr>\n",
       "      <th>466</th>\n",
       "      <td>467</td>\n",
       "      <td>2014</td>\n",
       "      <td>NaN</td>\n",
       "      <td>2014-04-23</td>\n",
       "      <td>Chennai Super Kings</td>\n",
       "      <td>Rajasthan Royals</td>\n",
       "      <td>Rajasthan Royals</td>\n",
       "      <td>field</td>\n",
       "      <td>normal</td>\n",
       "      <td>0</td>\n",
       "      <td>Chennai Super Kings</td>\n",
       "      <td>7</td>\n",
       "      <td>0</td>\n",
       "      <td>RA Jadeja</td>\n",
       "      <td>Dubai International Cricket Stadium</td>\n",
       "      <td>HDPK Dharmasena</td>\n",
       "      <td>RK Illingworth</td>\n",
       "      <td>NaN</td>\n",
       "    </tr>\n",
       "    <tr>\n",
       "      <th>468</th>\n",
       "      <td>469</td>\n",
       "      <td>2014</td>\n",
       "      <td>NaN</td>\n",
       "      <td>2014-04-25</td>\n",
       "      <td>Sunrisers Hyderabad</td>\n",
       "      <td>Delhi Daredevils</td>\n",
       "      <td>Sunrisers Hyderabad</td>\n",
       "      <td>bat</td>\n",
       "      <td>normal</td>\n",
       "      <td>0</td>\n",
       "      <td>Sunrisers Hyderabad</td>\n",
       "      <td>4</td>\n",
       "      <td>0</td>\n",
       "      <td>AJ Finch</td>\n",
       "      <td>Dubai International Cricket Stadium</td>\n",
       "      <td>M Erasmus</td>\n",
       "      <td>S Ravi</td>\n",
       "      <td>NaN</td>\n",
       "    </tr>\n",
       "    <tr>\n",
       "      <th>469</th>\n",
       "      <td>470</td>\n",
       "      <td>2014</td>\n",
       "      <td>NaN</td>\n",
       "      <td>2014-04-25</td>\n",
       "      <td>Mumbai Indians</td>\n",
       "      <td>Chennai Super Kings</td>\n",
       "      <td>Mumbai Indians</td>\n",
       "      <td>bat</td>\n",
       "      <td>normal</td>\n",
       "      <td>0</td>\n",
       "      <td>Chennai Super Kings</td>\n",
       "      <td>0</td>\n",
       "      <td>7</td>\n",
       "      <td>MM Sharma</td>\n",
       "      <td>Dubai International Cricket Stadium</td>\n",
       "      <td>BF Bowden</td>\n",
       "      <td>M Erasmus</td>\n",
       "      <td>NaN</td>\n",
       "    </tr>\n",
       "    <tr>\n",
       "      <th>474</th>\n",
       "      <td>475</td>\n",
       "      <td>2014</td>\n",
       "      <td>NaN</td>\n",
       "      <td>2014-04-28</td>\n",
       "      <td>Royal Challengers Bangalore</td>\n",
       "      <td>Kings XI Punjab</td>\n",
       "      <td>Kings XI Punjab</td>\n",
       "      <td>field</td>\n",
       "      <td>normal</td>\n",
       "      <td>0</td>\n",
       "      <td>Kings XI Punjab</td>\n",
       "      <td>0</td>\n",
       "      <td>5</td>\n",
       "      <td>Sandeep Sharma</td>\n",
       "      <td>Dubai International Cricket Stadium</td>\n",
       "      <td>BF Bowden</td>\n",
       "      <td>S Ravi</td>\n",
       "      <td>NaN</td>\n",
       "    </tr>\n",
       "    <tr>\n",
       "      <th>476</th>\n",
       "      <td>477</td>\n",
       "      <td>2014</td>\n",
       "      <td>NaN</td>\n",
       "      <td>2014-04-30</td>\n",
       "      <td>Sunrisers Hyderabad</td>\n",
       "      <td>Mumbai Indians</td>\n",
       "      <td>Mumbai Indians</td>\n",
       "      <td>field</td>\n",
       "      <td>normal</td>\n",
       "      <td>0</td>\n",
       "      <td>Sunrisers Hyderabad</td>\n",
       "      <td>15</td>\n",
       "      <td>0</td>\n",
       "      <td>B Kumar</td>\n",
       "      <td>Dubai International Cricket Stadium</td>\n",
       "      <td>HDPK Dharmasena</td>\n",
       "      <td>M Erasmus</td>\n",
       "      <td>NaN</td>\n",
       "    </tr>\n",
       "  </tbody>\n",
       "</table>\n",
       "</div>"
      ],
      "text/plain": [
       "      id  season city        date                        team1  \\\n",
       "461  462    2014  NaN  2014-04-19               Mumbai Indians   \n",
       "462  463    2014  NaN  2014-04-19        Kolkata Knight Riders   \n",
       "466  467    2014  NaN  2014-04-23          Chennai Super Kings   \n",
       "468  469    2014  NaN  2014-04-25          Sunrisers Hyderabad   \n",
       "469  470    2014  NaN  2014-04-25               Mumbai Indians   \n",
       "474  475    2014  NaN  2014-04-28  Royal Challengers Bangalore   \n",
       "476  477    2014  NaN  2014-04-30          Sunrisers Hyderabad   \n",
       "\n",
       "                           team2                  toss_winner toss_decision  \\\n",
       "461  Royal Challengers Bangalore  Royal Challengers Bangalore         field   \n",
       "462             Delhi Daredevils        Kolkata Knight Riders           bat   \n",
       "466             Rajasthan Royals             Rajasthan Royals         field   \n",
       "468             Delhi Daredevils          Sunrisers Hyderabad           bat   \n",
       "469          Chennai Super Kings               Mumbai Indians           bat   \n",
       "474              Kings XI Punjab              Kings XI Punjab         field   \n",
       "476               Mumbai Indians               Mumbai Indians         field   \n",
       "\n",
       "     result  dl_applied                       winner  win_by_runs  \\\n",
       "461  normal           0  Royal Challengers Bangalore            0   \n",
       "462  normal           0             Delhi Daredevils            0   \n",
       "466  normal           0          Chennai Super Kings            7   \n",
       "468  normal           0          Sunrisers Hyderabad            4   \n",
       "469  normal           0          Chennai Super Kings            0   \n",
       "474  normal           0              Kings XI Punjab            0   \n",
       "476  normal           0          Sunrisers Hyderabad           15   \n",
       "\n",
       "     win_by_wickets player_of_match                                venue  \\\n",
       "461               7        PA Patel  Dubai International Cricket Stadium   \n",
       "462               4       JP Duminy  Dubai International Cricket Stadium   \n",
       "466               0       RA Jadeja  Dubai International Cricket Stadium   \n",
       "468               0        AJ Finch  Dubai International Cricket Stadium   \n",
       "469               7       MM Sharma  Dubai International Cricket Stadium   \n",
       "474               5  Sandeep Sharma  Dubai International Cricket Stadium   \n",
       "476               0         B Kumar  Dubai International Cricket Stadium   \n",
       "\n",
       "             umpire1         umpire2 umpire3  \n",
       "461        Aleem Dar    AK Chaudhary     NaN  \n",
       "462        Aleem Dar     VA Kulkarni     NaN  \n",
       "466  HDPK Dharmasena  RK Illingworth     NaN  \n",
       "468        M Erasmus          S Ravi     NaN  \n",
       "469        BF Bowden       M Erasmus     NaN  \n",
       "474        BF Bowden          S Ravi     NaN  \n",
       "476  HDPK Dharmasena       M Erasmus     NaN  "
      ]
     },
     "execution_count": 9,
     "metadata": {},
     "output_type": "execute_result"
    }
   ],
   "source": [
    "df[df['city'].isnull()]"
   ]
  },
  {
   "cell_type": "code",
   "execution_count": 7,
   "id": "0f7ef3e8-e5fc-4e75-abf5-94b8db0994d7",
   "metadata": {},
   "outputs": [],
   "source": [
    "#Handling Missing Values\n",
    "df.loc[(df['venue']== 'Dubai International Cricket Stadium'),['city']] = 'Dubai'"
   ]
  },
  {
   "cell_type": "code",
   "execution_count": 9,
   "id": "74cb88df-8293-4cf3-90ed-5f9aa9372190",
   "metadata": {},
   "outputs": [],
   "source": [
    "df['winner']=df['winner'].fillna('NoResult')"
   ]
  },
  {
   "cell_type": "code",
   "execution_count": 11,
   "id": "a3e4a54d-a88b-4e94-9c42-afc66f20d85e",
   "metadata": {},
   "outputs": [],
   "source": [
    "df['player_of_match']=df['player_of_match'].fillna('NoResult')"
   ]
  },
  {
   "cell_type": "code",
   "execution_count": 13,
   "id": "cb701cf7-3bf2-44f8-bf22-2f766ac6bd39",
   "metadata": {},
   "outputs": [],
   "source": [
    "df['umpire1']=df['umpire1'].fillna('unknown')\n",
    "df['umpire2']=df['umpire2'].fillna('unknown')"
   ]
  },
  {
   "cell_type": "code",
   "execution_count": 15,
   "id": "6716fd0e-94bd-4bf3-a8a5-d0da985f7dfa",
   "metadata": {},
   "outputs": [],
   "source": [
    "#droping the third umpire(umpire3) column as alomost more than 80% of the data is missing. Also it won't have effect on the data\n",
    "df.drop(columns=['umpire3'], inplace=True)"
   ]
  },
  {
   "cell_type": "code",
   "execution_count": 17,
   "id": "dc750f7e-c7a6-45fc-b754-1b39154de515",
   "metadata": {},
   "outputs": [
    {
     "data": {
      "text/plain": [
       "id                 0\n",
       "season             0\n",
       "city               0\n",
       "date               0\n",
       "team1              0\n",
       "team2              0\n",
       "toss_winner        0\n",
       "toss_decision      0\n",
       "result             0\n",
       "dl_applied         0\n",
       "winner             0\n",
       "win_by_runs        0\n",
       "win_by_wickets     0\n",
       "player_of_match    0\n",
       "venue              0\n",
       "umpire1            0\n",
       "umpire2            0\n",
       "dtype: int64"
      ]
     },
     "execution_count": 17,
     "metadata": {},
     "output_type": "execute_result"
    }
   ],
   "source": [
    "# Check for missing values after cleaning\n",
    "df.isnull().sum()"
   ]
  },
  {
   "cell_type": "code",
   "execution_count": 19,
   "id": "5051d300-5294-4a7d-a10f-8d67c7b2eb30",
   "metadata": {},
   "outputs": [
    {
     "data": {
      "text/html": [
       "<div>\n",
       "<style scoped>\n",
       "    .dataframe tbody tr th:only-of-type {\n",
       "        vertical-align: middle;\n",
       "    }\n",
       "\n",
       "    .dataframe tbody tr th {\n",
       "        vertical-align: top;\n",
       "    }\n",
       "\n",
       "    .dataframe thead th {\n",
       "        text-align: right;\n",
       "    }\n",
       "</style>\n",
       "<table border=\"1\" class=\"dataframe\">\n",
       "  <thead>\n",
       "    <tr style=\"text-align: right;\">\n",
       "      <th></th>\n",
       "      <th>id</th>\n",
       "      <th>season</th>\n",
       "      <th>dl_applied</th>\n",
       "      <th>win_by_runs</th>\n",
       "      <th>win_by_wickets</th>\n",
       "    </tr>\n",
       "  </thead>\n",
       "  <tbody>\n",
       "    <tr>\n",
       "      <th>count</th>\n",
       "      <td>756.000000</td>\n",
       "      <td>756.000000</td>\n",
       "      <td>756.000000</td>\n",
       "      <td>756.000000</td>\n",
       "      <td>756.000000</td>\n",
       "    </tr>\n",
       "    <tr>\n",
       "      <th>mean</th>\n",
       "      <td>1792.178571</td>\n",
       "      <td>2013.444444</td>\n",
       "      <td>0.025132</td>\n",
       "      <td>13.283069</td>\n",
       "      <td>3.350529</td>\n",
       "    </tr>\n",
       "    <tr>\n",
       "      <th>std</th>\n",
       "      <td>3464.478148</td>\n",
       "      <td>3.366895</td>\n",
       "      <td>0.156630</td>\n",
       "      <td>23.471144</td>\n",
       "      <td>3.387963</td>\n",
       "    </tr>\n",
       "    <tr>\n",
       "      <th>min</th>\n",
       "      <td>1.000000</td>\n",
       "      <td>2008.000000</td>\n",
       "      <td>0.000000</td>\n",
       "      <td>0.000000</td>\n",
       "      <td>0.000000</td>\n",
       "    </tr>\n",
       "    <tr>\n",
       "      <th>25%</th>\n",
       "      <td>189.750000</td>\n",
       "      <td>2011.000000</td>\n",
       "      <td>0.000000</td>\n",
       "      <td>0.000000</td>\n",
       "      <td>0.000000</td>\n",
       "    </tr>\n",
       "    <tr>\n",
       "      <th>50%</th>\n",
       "      <td>378.500000</td>\n",
       "      <td>2013.000000</td>\n",
       "      <td>0.000000</td>\n",
       "      <td>0.000000</td>\n",
       "      <td>4.000000</td>\n",
       "    </tr>\n",
       "    <tr>\n",
       "      <th>75%</th>\n",
       "      <td>567.250000</td>\n",
       "      <td>2016.000000</td>\n",
       "      <td>0.000000</td>\n",
       "      <td>19.000000</td>\n",
       "      <td>6.000000</td>\n",
       "    </tr>\n",
       "    <tr>\n",
       "      <th>max</th>\n",
       "      <td>11415.000000</td>\n",
       "      <td>2019.000000</td>\n",
       "      <td>1.000000</td>\n",
       "      <td>146.000000</td>\n",
       "      <td>10.000000</td>\n",
       "    </tr>\n",
       "  </tbody>\n",
       "</table>\n",
       "</div>"
      ],
      "text/plain": [
       "                 id       season  dl_applied  win_by_runs  win_by_wickets\n",
       "count    756.000000   756.000000  756.000000   756.000000      756.000000\n",
       "mean    1792.178571  2013.444444    0.025132    13.283069        3.350529\n",
       "std     3464.478148     3.366895    0.156630    23.471144        3.387963\n",
       "min        1.000000  2008.000000    0.000000     0.000000        0.000000\n",
       "25%      189.750000  2011.000000    0.000000     0.000000        0.000000\n",
       "50%      378.500000  2013.000000    0.000000     0.000000        4.000000\n",
       "75%      567.250000  2016.000000    0.000000    19.000000        6.000000\n",
       "max    11415.000000  2019.000000    1.000000   146.000000       10.000000"
      ]
     },
     "execution_count": 19,
     "metadata": {},
     "output_type": "execute_result"
    }
   ],
   "source": [
    "# Descriptive Statistics\n",
    "df.describe()"
   ]
  },
  {
   "cell_type": "code",
   "execution_count": 35,
   "id": "7db5d8fb-4253-4878-b173-a9ca9800886d",
   "metadata": {},
   "outputs": [
    {
     "name": "stdout",
     "output_type": "stream",
     "text": [
      "Mean:\n",
      " id                1792.178571\n",
      "season            2013.444444\n",
      "dl_applied           0.025132\n",
      "win_by_runs         13.283069\n",
      "win_by_wickets       3.350529\n",
      "dtype: float64\n",
      "\n",
      "Median:\n",
      " id                 378.5\n",
      "season            2013.0\n",
      "dl_applied           0.0\n",
      "win_by_runs          0.0\n",
      "win_by_wickets       4.0\n",
      "dtype: float64\n",
      "\n",
      "Mode:\n",
      " id                                     1\n",
      "season                            2013.0\n",
      "city                              Mumbai\n",
      "date                            04/05/19\n",
      "team1                     Mumbai Indians\n",
      "team2              Kolkata Knight Riders\n",
      "toss_winner               Mumbai Indians\n",
      "toss_decision                      field\n",
      "result                            normal\n",
      "dl_applied                           0.0\n",
      "winner                    Mumbai Indians\n",
      "win_by_runs                          0.0\n",
      "win_by_wickets                       0.0\n",
      "player_of_match                 CH Gayle\n",
      "venue                       Eden Gardens\n",
      "umpire1                  HDPK Dharmasena\n",
      "umpire2                    C Shamshuddin\n",
      "Name: 0, dtype: object\n",
      "\n",
      "Standard Deviation:\n",
      " id                3464.478148\n",
      "season               3.366895\n",
      "dl_applied           0.156630\n",
      "win_by_runs         23.471144\n",
      "win_by_wickets       3.387963\n",
      "dtype: float64\n"
     ]
    }
   ],
   "source": [
    "# Mean, median, mode, standard deviation\n",
    "mean_values = df.mean(numeric_only=True)\n",
    "median_values = df.median(numeric_only=True)\n",
    "mode_values = df.mode().iloc[0]\n",
    "std_dev = df.std(numeric_only=True)\n",
    "\n",
    "print(\"Mean:\\n\", mean_values)\n",
    "print(\"\\nMedian:\\n\", median_values)\n",
    "print(\"\\nMode:\\n\", mode_values)\n",
    "print(\"\\nStandard Deviation:\\n\", std_dev)"
   ]
  },
  {
   "cell_type": "code",
   "execution_count": 107,
   "id": "313af605-fd32-4cf5-8833-a30a44d611ac",
   "metadata": {},
   "outputs": [
    {
     "name": "stdout",
     "output_type": "stream",
     "text": [
      "toss_decision\n",
      "field    463\n",
      "bat      293\n",
      "Name: count, dtype: int64\n"
     ]
    },
    {
     "data": {
      "image/png": "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",
      "text/plain": [
       "<Figure size 640x480 with 1 Axes>"
      ]
     },
     "metadata": {},
     "output_type": "display_data"
    }
   ],
   "source": [
    "#Showing the toss decision in pie chart\n",
    "toss_decision_ratio = df['toss_decision'].value_counts()\n",
    "print(toss_decision_ratio)\n",
    "labels = ['field','bat']\n",
    "x = (toss_decision_ratio / toss_decision_ratio.sum()) * 100\n",
    "colors = ['cyan', 'lightblue']\n",
    "plt.pie(x, labels=labels, colors=colors,autopct='%1.1f%%')\n",
    "plt.title(\"Ratio of Toss Decision in IPL\", fontsize=15)\n",
    "plt.show()"
   ]
  },
  {
   "cell_type": "code",
   "execution_count": 77,
   "id": "b954b7df-b565-4834-a055-ee76f72fe0b3",
   "metadata": {},
   "outputs": [
    {
     "name": "stdout",
     "output_type": "stream",
     "text": [
      "True     393\n",
      "False    363\n",
      "Name: count, dtype: int64\n"
     ]
    },
    {
     "data": {
      "image/png": "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",
      "text/plain": [
       "<Figure size 640x480 with 1 Axes>"
      ]
     },
     "metadata": {},
     "output_type": "display_data"
    }
   ],
   "source": [
    "#Showing if winning toss has any effect on winning the match\n",
    "tosswin_matchwin_ratio=(df['toss_winner']==df['winner']).value_counts()\n",
    "print(tosswin_matchwin_ratio)\n",
    "labels = ['win','lose']\n",
    "x = (tosswin_matchwin_ratio / tosswin_matchwin_ratio.sum()) * 100\n",
    "colors = ['cyan', 'lightblue']\n",
    "plt.pie(x, labels=labels, colors=colors,autopct='%1.1f%%')\n",
    "plt.title(\"Ratio of Winner vs Toss Decision in IPL\", fontsize=15)\n",
    "plt.show()\n"
   ]
  },
  {
   "cell_type": "code",
   "execution_count": 109,
   "id": "5ed7a2eb-2b65-451d-8c5a-35dc74edfc47",
   "metadata": {},
   "outputs": [
    {
     "data": {
      "image/png": "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",
      "text/plain": [
       "<Figure size 1400x600 with 2 Axes>"
      ]
     },
     "metadata": {},
     "output_type": "display_data"
    }
   ],
   "source": [
    "#Showing if choosing batting or fielding have any effect on winning the match\n",
    "batting_outcome = (df[df['toss_decision'] == 'bat']['toss_winner'] == df[df['toss_decision'] == 'bat']['winner']).value_counts()\n",
    "fielding_outcome = (df[df['toss_decision'] == 'field']['toss_winner'] == df[df['toss_decision'] == 'field']['winner']).value_counts()\n",
    "\n",
    "\n",
    "batting_percentage = (batting_outcome / batting_outcome.sum()) * 100\n",
    "fielding_percentage = (fielding_outcome / fielding_outcome.sum()) * 100\n",
    "\n",
    "fig, axes = plt.subplots(1, 2, figsize=(14, 6))\n",
    "\n",
    "axes[0].pie(batting_percentage, labels=['Win', 'Lose'], colors=['lightblue', 'cyan'], autopct='%1.1f%%')\n",
    "axes[0].set_title(\"Batting Outcome After Winning Toss\", fontsize=15)\n",
    "\n",
    "axes[1].pie(fielding_percentage, labels=['Win', 'Lose'], colors=['lightblue', 'cyan'], autopct='%1.1f%%')\n",
    "axes[1].set_title(\"Fielding Outcome After Winning Toss\", fontsize=15)\n",
    "\n",
    "plt.tight_layout()  # Adjust layout to avoid overlap\n",
    "plt.show()\n"
   ]
  },
  {
   "cell_type": "code",
   "execution_count": 105,
   "id": "c83b492e-9529-4fd4-add3-d9ea9db2d044",
   "metadata": {},
   "outputs": [
    {
     "name": "stdout",
     "output_type": "stream",
     "text": [
      "player_of_match\n",
      "CH Gayle          21\n",
      "AB de Villiers    20\n",
      "RG Sharma         17\n",
      "MS Dhoni          17\n",
      "DA Warner         17\n",
      "                  ..\n",
      "PD Collingwood     1\n",
      "NV Ojha            1\n",
      "AC Voges           1\n",
      "J Theron           1\n",
      "S Hetmyer          1\n",
      "Name: count, Length: 227, dtype: int64\n"
     ]
    }
   ],
   "source": [
    "MOM = df['player_of_match'].value_counts()\n",
    "print(MOM)\n",
    "pl"
   ]
  },
  {
   "cell_type": "code",
   "execution_count": 103,
   "id": "3f93baf8-bd6e-47b6-9524-c90f0ea42916",
   "metadata": {},
   "outputs": [
    {
     "data": {
      "application/vnd.jupyter.widget-view+json": {
       "model_id": "ddc533993cb74f8f8fe20c88245af523",
       "version_major": 2,
       "version_minor": 0
      },
      "text/plain": [
       "                                             |          | [  0%]   00:00 -> (? left)"
      ]
     },
     "metadata": {},
     "output_type": "display_data"
    },
    {
     "name": "stdout",
     "output_type": "stream",
     "text": [
      "Report C:\\Users\\pc\\.cache\\kagglehub\\datasets\\nowke9\\ipldata\\versions\\2\\matches.html was generated! NOTEBOOK/COLAB USERS: the web browser MAY not pop up, regardless, the report IS saved in your notebook/colab files.\n"
     ]
    }
   ],
   "source": [
    "import sweetviz as sv\n",
    "report=sv.analyze(df)\n",
    "report.show_html(r\"C:\\Users\\pc\\.cache\\kagglehub\\datasets\\nowke9\\ipldata\\versions\\2\\matches.html\")"
   ]
  },
  {
   "cell_type": "code",
   "execution_count": null,
   "id": "a29ec025-9608-4593-8939-55596d8ec004",
   "metadata": {},
   "outputs": [],
   "source": []
  }
 ],
 "metadata": {
  "kernelspec": {
   "display_name": "Python 3 (ipykernel)",
   "language": "python",
   "name": "python3"
  },
  "language_info": {
   "codemirror_mode": {
    "name": "ipython",
    "version": 3
   },
   "file_extension": ".py",
   "mimetype": "text/x-python",
   "name": "python",
   "nbconvert_exporter": "python",
   "pygments_lexer": "ipython3",
   "version": "3.12.7"
  }
 },
 "nbformat": 4,
 "nbformat_minor": 5
}
